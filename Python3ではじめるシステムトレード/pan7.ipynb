{
 "cells": [
  {
   "cell_type": "markdown",
   "metadata": {},
   "source": [
    "# 第7章 確率的トレンドとは何か？\n",
    "## 7.4 ランダムウォークの判定"
   ]
  },
  {
   "cell_type": "code",
   "execution_count": 45,
   "metadata": {},
   "outputs": [],
   "source": [
    "%matplotlib inline\n",
    "import matplotlib.pyplot as plt\n",
    "import statsmodels.api as sm\n",
    "import pandas_datareader.data as web\n",
    "import numpy as np\n",
    "end='2017/12/30'\n",
    "lnn225 = np.log(web.DataReader(\"NIKKEI225\", 'fred',\"1949/5/16\",end)).dropna()"
   ]
  },
  {
   "cell_type": "code",
   "execution_count": 46,
   "metadata": {},
   "outputs": [
    {
     "name": "stdout",
     "output_type": "stream",
     "text": [
      "2.36183081396\n",
      "0.996876975454\n",
      "38\n",
      "17038\n",
      "{'1%': -2.5658712368163572, '5%': -1.9410157763465283, '10%': -1.6168044206599144}\n"
     ]
    }
   ],
   "source": [
    "print(sm.tsa.adfuller(lnn225.NIKKEI225,regression='nc')[0])#検定統計量\n",
    "print(sm.tsa.adfuller(lnn225.NIKKEI225,regression='nc')[1])#p-値\n",
    "print(sm.tsa.adfuller(lnn225.NIKKEI225,regression='nc')[2])#ラグの数\n",
    "print(sm.tsa.adfuller(lnn225.NIKKEI225,regression='nc')[3])#データの数\n",
    "print(sm.tsa.adfuller(lnn225.NIKKEI225,regression='nc')[4])#臨界値"
   ]
  },
  {
   "cell_type": "code",
   "execution_count": 47,
   "metadata": {},
   "outputs": [
    {
     "name": "stdout",
     "output_type": "stream",
     "text": [
      "0.796845172226\n"
     ]
    }
   ],
   "source": [
    "print(sm.tsa.adfuller(lnn225.NIKKEI225,regression='ct')[1])"
   ]
  },
  {
   "cell_type": "code",
   "execution_count": 48,
   "metadata": {},
   "outputs": [
    {
     "name": "stdout",
     "output_type": "stream",
     "text": [
      "0.136208360824\n"
     ]
    }
   ],
   "source": [
    "print(sm.tsa.adfuller(lnn225.NIKKEI225,regression='c')[1])"
   ]
  },
  {
   "cell_type": "code",
   "execution_count": 49,
   "metadata": {},
   "outputs": [
    {
     "name": "stdout",
     "output_type": "stream",
     "text": [
      "17050\n"
     ]
    }
   ],
   "source": [
    "print(sm.tsa.adfuller(lnn225.NIKKEI225,regression='c')[3])"
   ]
  },
  {
   "cell_type": "code",
   "execution_count": 50,
   "metadata": {},
   "outputs": [
    {
     "name": "stdout",
     "output_type": "stream",
     "text": [
      "{'1%': -3.4307335944157988, '5%': -2.8617095336343805, '10%': -2.5668602384018024}\n"
     ]
    }
   ],
   "source": [
    "print(sm.tsa.adfuller(lnn225.NIKKEI225,regression='c')[4])"
   ]
  },
  {
   "cell_type": "code",
   "execution_count": 51,
   "metadata": {},
   "outputs": [
    {
     "name": "stdout",
     "output_type": "stream",
     "text": [
      "(-2.4198635880674471, 0.13620836082381926)\n"
     ]
    }
   ],
   "source": [
    "print(sm.tsa.adfuller(lnn225.NIKKEI225,regression='c')[:2])"
   ]
  },
  {
   "cell_type": "code",
   "execution_count": 52,
   "metadata": {},
   "outputs": [
    {
     "name": "stdout",
     "output_type": "stream",
     "text": [
      "0.996876975454\n"
     ]
    }
   ],
   "source": [
    "print(sm.tsa.adfuller(lnn225.NIKKEI225,regression='nc')[1])"
   ]
  },
  {
   "cell_type": "code",
   "execution_count": 53,
   "metadata": {},
   "outputs": [
    {
     "name": "stdout",
     "output_type": "stream",
     "text": [
      "0.50433866797\n"
     ]
    }
   ],
   "source": [
    "print(sm.tsa.adfuller(lnn225.NIKKEI225.loc[:'1954/11/30'],regression='ct')[1])"
   ]
  },
  {
   "cell_type": "code",
   "execution_count": 54,
   "metadata": {},
   "outputs": [
    {
     "name": "stdout",
     "output_type": "stream",
     "text": [
      "0.903086924527\n"
     ]
    }
   ],
   "source": [
    "print(sm.tsa.adfuller(lnn225.NIKKEI225.loc[:'1954/11/30'],regression='c')[1])"
   ]
  },
  {
   "cell_type": "code",
   "execution_count": 55,
   "metadata": {},
   "outputs": [
    {
     "name": "stdout",
     "output_type": "stream",
     "text": [
      "0.895822001571\n"
     ]
    }
   ],
   "source": [
    "print(sm.tsa.adfuller(lnn225.NIKKEI225.loc[:'1954/11/30'],regression='nc')[1])"
   ]
  },
  {
   "cell_type": "code",
   "execution_count": 56,
   "metadata": {},
   "outputs": [
    {
     "name": "stdout",
     "output_type": "stream",
     "text": [
      "0.615588208254\n"
     ]
    }
   ],
   "source": [
    "print(sm.tsa.adfuller(lnn225.NIKKEI225.loc['1954/12/1':'1971/12/31'],regression='ct')[1])"
   ]
  },
  {
   "cell_type": "code",
   "execution_count": 57,
   "metadata": {},
   "outputs": [
    {
     "name": "stdout",
     "output_type": "stream",
     "text": [
      "0.480043863331\n"
     ]
    }
   ],
   "source": [
    "print(sm.tsa.adfuller(lnn225.NIKKEI225.loc['1954/12/1':'1971/12/31'],regression='c')[1])"
   ]
  },
  {
   "cell_type": "code",
   "execution_count": 58,
   "metadata": {},
   "outputs": [
    {
     "name": "stdout",
     "output_type": "stream",
     "text": [
      "0.999689754599\n"
     ]
    }
   ],
   "source": [
    "print(sm.tsa.adfuller(lnn225.NIKKEI225.loc['1954/12/1':'1971/12/31'],regression='nc')[1])"
   ]
  },
  {
   "cell_type": "code",
   "execution_count": 59,
   "metadata": {},
   "outputs": [
    {
     "name": "stdout",
     "output_type": "stream",
     "text": [
      "0.840240937298\n"
     ]
    }
   ],
   "source": [
    "print(sm.tsa.adfuller(lnn225.NIKKEI225.loc['1972/1/1':'1986/11/30'],regression='ct')[1])"
   ]
  },
  {
   "cell_type": "code",
   "execution_count": 60,
   "metadata": {},
   "outputs": [
    {
     "name": "stdout",
     "output_type": "stream",
     "text": [
      "0.96175537736\n"
     ]
    }
   ],
   "source": [
    "print(sm.tsa.adfuller(lnn225.NIKKEI225.loc['1972/1/1':'1986/11/30'],regression='c')[1])"
   ]
  },
  {
   "cell_type": "code",
   "execution_count": 61,
   "metadata": {},
   "outputs": [
    {
     "name": "stdout",
     "output_type": "stream",
     "text": [
      "0.999996991887\n"
     ]
    }
   ],
   "source": [
    "print(sm.tsa.adfuller(lnn225.NIKKEI225.loc['1972/1/1':'1986/11/30'],regression='nc')[1])"
   ]
  },
  {
   "cell_type": "code",
   "execution_count": 62,
   "metadata": {},
   "outputs": [
    {
     "name": "stdout",
     "output_type": "stream",
     "text": [
      "0.312378263486\n"
     ]
    }
   ],
   "source": [
    "print(sm.tsa.adfuller(lnn225.NIKKEI225.loc['1986/12/1':'1989/12/31'],regression='ct')[1])"
   ]
  },
  {
   "cell_type": "code",
   "execution_count": 63,
   "metadata": {},
   "outputs": [
    {
     "name": "stdout",
     "output_type": "stream",
     "text": [
      "0.768377939279\n"
     ]
    }
   ],
   "source": [
    "print(sm.tsa.adfuller(lnn225.NIKKEI225.loc['1986/12/1':'1989/12/31'],regression='c')[1])"
   ]
  },
  {
   "cell_type": "code",
   "execution_count": 64,
   "metadata": {},
   "outputs": [
    {
     "name": "stdout",
     "output_type": "stream",
     "text": [
      "0.999525130045\n"
     ]
    }
   ],
   "source": [
    "print(sm.tsa.adfuller(lnn225.NIKKEI225.loc['1986/12/1':'1989/12/31'],regression='nc')[1])"
   ]
  },
  {
   "cell_type": "code",
   "execution_count": 65,
   "metadata": {},
   "outputs": [
    {
     "name": "stdout",
     "output_type": "stream",
     "text": [
      "0.408168347822\n"
     ]
    }
   ],
   "source": [
    "print(sm.tsa.adfuller(lnn225.NIKKEI225.loc['1986/12/1':'1993/10/30'],regression='ct')[1])"
   ]
  },
  {
   "cell_type": "code",
   "execution_count": 66,
   "metadata": {},
   "outputs": [
    {
     "name": "stdout",
     "output_type": "stream",
     "text": [
      "0.614194333311\n"
     ]
    }
   ],
   "source": [
    "print(sm.tsa.adfuller(lnn225.NIKKEI225.loc['1986/12/1':'1993/10/30'],regression='c')[1])"
   ]
  },
  {
   "cell_type": "code",
   "execution_count": 67,
   "metadata": {},
   "outputs": [
    {
     "name": "stdout",
     "output_type": "stream",
     "text": [
      "0.71409077222\n"
     ]
    }
   ],
   "source": [
    "print(sm.tsa.adfuller(lnn225.NIKKEI225.loc['1986/12/1':'1993/10/30'],regression='nc')[1])"
   ]
  },
  {
   "cell_type": "code",
   "execution_count": 68,
   "metadata": {},
   "outputs": [
    {
     "name": "stdout",
     "output_type": "stream",
     "text": [
      "0.620086823254\n"
     ]
    }
   ],
   "source": [
    "print(sm.tsa.adfuller(lnn225.NIKKEI225.loc[:'1993/10/30'],regression='ct')[1])"
   ]
  },
  {
   "cell_type": "code",
   "execution_count": 69,
   "metadata": {},
   "outputs": [
    {
     "name": "stdout",
     "output_type": "stream",
     "text": [
      "0.652008364051\n"
     ]
    }
   ],
   "source": [
    "print(sm.tsa.adfuller(lnn225.NIKKEI225.loc[:'1993/10/30'],regression='c')[1])"
   ]
  },
  {
   "cell_type": "code",
   "execution_count": 70,
   "metadata": {},
   "outputs": [
    {
     "name": "stdout",
     "output_type": "stream",
     "text": [
      "0.999821116797\n"
     ]
    }
   ],
   "source": [
    "print(sm.tsa.adfuller(lnn225.NIKKEI225.loc[:'1993/10/30'],regression='nc')[1])"
   ]
  },
  {
   "cell_type": "code",
   "execution_count": 71,
   "metadata": {},
   "outputs": [
    {
     "name": "stdout",
     "output_type": "stream",
     "text": [
      "0.889707799499\n"
     ]
    }
   ],
   "source": [
    "print(sm.tsa.adfuller(lnn225.NIKKEI225.loc['1993/10/30':],regression='ct')[1])"
   ]
  },
  {
   "cell_type": "code",
   "execution_count": 72,
   "metadata": {},
   "outputs": [
    {
     "name": "stdout",
     "output_type": "stream",
     "text": [
      "0.509743244217\n"
     ]
    }
   ],
   "source": [
    "print(sm.tsa.adfuller(lnn225.NIKKEI225.loc['1993/10/30':],regression='c')[1])"
   ]
  },
  {
   "cell_type": "code",
   "execution_count": 73,
   "metadata": {},
   "outputs": [
    {
     "name": "stdout",
     "output_type": "stream",
     "text": [
      "0.729992965571\n"
     ]
    }
   ],
   "source": [
    "print(sm.tsa.adfuller(lnn225.NIKKEI225.loc['1993/10/30':],regression='nc')[1])"
   ]
  },
  {
   "cell_type": "code",
   "execution_count": 74,
   "metadata": {},
   "outputs": [
    {
     "name": "stdout",
     "output_type": "stream",
     "text": [
      "0.0739555163473\n"
     ]
    }
   ],
   "source": [
    "print(sm.tsa.adfuller(lnn225.NIKKEI225.loc['1990/1/1':'1992/8/31'],regression='nc')[1])"
   ]
  },
  {
   "cell_type": "code",
   "execution_count": 75,
   "metadata": {},
   "outputs": [
    {
     "name": "stdout",
     "output_type": "stream",
     "text": [
      "0.442806176355\n"
     ]
    }
   ],
   "source": [
    "print(sm.tsa.adfuller(lnn225.NIKKEI225.loc['1990/1/1':'1992/8/31'],regression='c')[1])"
   ]
  },
  {
   "cell_type": "code",
   "execution_count": 76,
   "metadata": {},
   "outputs": [
    {
     "name": "stdout",
     "output_type": "stream",
     "text": [
      "0.323414633113\n"
     ]
    }
   ],
   "source": [
    "print(sm.tsa.adfuller(lnn225.NIKKEI225.loc['1990/1/1':'1992/8/31'],regression='ct')[1])"
   ]
  },
  {
   "cell_type": "code",
   "execution_count": 77,
   "metadata": {},
   "outputs": [
    {
     "name": "stdout",
     "output_type": "stream",
     "text": [
      "without drift   2.83085443179e-05\n",
      "with drift   0.00151302733811 -0.000145200042667\n",
      "with drift + time trend   0.00168857470835 -0.000177115069569 1.10620805587e-08\n"
     ]
    }
   ],
   "source": [
    "z=lnn225\n",
    "y=z.diff().dropna()\n",
    "x=z.shift(1).dropna()\n",
    "model=sm.OLS(y,x)\n",
    "results=model.fit()\n",
    "print(\"without drift  \",results.params[0])\n",
    "x=sm.add_constant(x)\n",
    "model=sm.OLS(y,x)\n",
    "results=model.fit()\n",
    "print(\"with drift  \",results.params[0],results.params[1])\n",
    "x[\"t\"]=range(len(y))\n",
    "model=sm.OLS(y,x)\n",
    "results=model.fit()\n",
    "print(\"with drift + time trend  \",results.params[0],results.params[1],results.params[2])"
   ]
  },
  {
   "cell_type": "code",
   "execution_count": 78,
   "metadata": {},
   "outputs": [
    {
     "name": "stdout",
     "output_type": "stream",
     "text": [
      "nc   NIKKEI225    0.000082\n",
      "dtype: float64\n",
      "c   0.00101585631908 -0.00010764780611\n",
      "ct   0.015455834379 -0.00348332776496 5.00736004787e-06\n"
     ]
    }
   ],
   "source": [
    "z=lnn225.loc[:\"1954/11/30\"]\n",
    "y=z.diff().dropna()\n",
    "x=z.shift(1).dropna()\n",
    "model=sm.OLS(y,x)\n",
    "results=model.fit()\n",
    "print(\"nc  \",results.params)\n",
    "x=sm.add_constant(x)\n",
    "model=sm.OLS(y,x)\n",
    "results=model.fit()\n",
    "print(\"c  \",results.params[0],results.params[1])\n",
    "x[\"t\"]=range(len(y))\n",
    "model=sm.OLS(y,x)\n",
    "results=model.fit()\n",
    "print(\"ct  \",results.params[0],results.params[1],results.params[2])"
   ]
  },
  {
   "cell_type": "code",
   "execution_count": 79,
   "metadata": {},
   "outputs": [
    {
     "name": "stdout",
     "output_type": "stream",
     "text": [
      "nc   NIKKEI225    0.000068\n",
      "dtype: float64\n",
      "c   0.00354522118342 -0.000434452045716\n",
      "ct   0.00776380402623 -0.00113940523217 3.41862728775e-07\n"
     ]
    }
   ],
   "source": [
    "z=lnn225.loc[\"1954/11/30\":'1971/12/31']\n",
    "y=z.diff().dropna()\n",
    "x=z.shift(1).dropna()\n",
    "model=sm.OLS(y,x)\n",
    "results=model.fit()\n",
    "print(\"nc  \",results.params)\n",
    "x=sm.add_constant(x)\n",
    "model=sm.OLS(y,x)\n",
    "results=model.fit()\n",
    "print(\"c  \",results.params[0],results.params[1])\n",
    "x[\"t\"]=range(len(y))\n",
    "model=sm.OLS(y,x)\n",
    "results=model.fit()\n",
    "print(\"ct  \",results.params[0],results.params[1],results.params[2])"
   ]
  },
  {
   "cell_type": "code",
   "execution_count": 80,
   "metadata": {},
   "outputs": [
    {
     "name": "stdout",
     "output_type": "stream",
     "text": [
      "nc   NIKKEI225    0.000057\n",
      "dtype: float64\n",
      "c   0.000594490997009 -1.03330061863e-05\n",
      "ct   0.0126779199481 -0.00151484490346 6.08743200288e-07\n"
     ]
    }
   ],
   "source": [
    "z=lnn225.loc['1971/12/31':'1986/11/30']\n",
    "y=z.diff().dropna()\n",
    "x=z.shift(1).dropna()\n",
    "model=sm.OLS(y,x)\n",
    "results=model.fit()\n",
    "print(\"nc  \",results.params)\n",
    "x=sm.add_constant(x)\n",
    "model=sm.OLS(y,x)\n",
    "results=model.fit()\n",
    "print(\"c  \",results.params[0],results.params[1])\n",
    "x[\"t\"]=range(len(y))\n",
    "model=sm.OLS(y,x)\n",
    "results=model.fit()\n",
    "print(\"ct  \",results.params[0],results.params[1],results.params[2])"
   ]
  },
  {
   "cell_type": "code",
   "execution_count": 81,
   "metadata": {},
   "outputs": [
    {
     "name": "stdout",
     "output_type": "stream",
     "text": [
      "nc   NIKKEI225    0.000003\n",
      "dtype: float64\n",
      "c   0.022443821649 -0.00221648372153\n",
      "ct   0.0437321302035 -0.00415890963348 -1.94402463757e-06\n"
     ]
    }
   ],
   "source": [
    "z=lnn225.loc['1986/11/30':'1993/10/31']\n",
    "y=z.diff().dropna()\n",
    "x=z.shift(1).dropna()\n",
    "model=sm.OLS(y,x)\n",
    "results=model.fit()\n",
    "print(\"nc  \",results.params)\n",
    "x=sm.add_constant(x)\n",
    "model=sm.OLS(y,x)\n",
    "results=model.fit()\n",
    "print(\"c  \",results.params[0],results.params[1])\n",
    "x[\"t\"]=range(len(y))\n",
    "model=sm.OLS(y,x)\n",
    "results=model.fit()\n",
    "print(\"ct  \",results.params[0],results.params[1],results.params[2])"
   ]
  },
  {
   "cell_type": "code",
   "execution_count": 82,
   "metadata": {},
   "outputs": [
    {
     "name": "stdout",
     "output_type": "stream",
     "text": [
      "nc   NIKKEI225    0.000096\n",
      "dtype: float64\n",
      "nc   -4690.71922738\n",
      "nc   -4686.08065959\n",
      "nc   0.00754526995726\n",
      "nc   0.0062445429192\n",
      "nc   0.000126045202902\n",
      "nc   [ 79769.67617582]\n",
      "c   0.0273577963315 -0.00258119955419\n",
      "c   -4690.19492165\n",
      "c   -4680.91778607\n",
      "c   0.00179377601062\n",
      "c   0.000483794089371\n",
      "c   0.000125967071361\n",
      "c   [  8.05334306e+04   2.45603153e-01]\n",
      "ct   0.227868128943 -0.0228692184611 1.77248395794e-05\n",
      "ct   -4696.34982225\n",
      "ct   -4682.43411889\n",
      "ct   0.0123919203254\n",
      "ct   0.00979636689658\n",
      "ct   0.000124793426035\n",
      "ct   [  1.48417739e+08   1.89889943e+04   2.27656103e-02]\n"
     ]
    }
   ],
   "source": [
    "z=lnn225.loc['1986/11/30':'1989/12/31']\n",
    "y=z.diff().dropna()\n",
    "x=z.shift(1).dropna()\n",
    "model=sm.OLS(y,x)\n",
    "results=model.fit()\n",
    "print(\"nc  \",results.params)\n",
    "print(\"nc  \",results.aic)\n",
    "print(\"nc  \",results.bic)\n",
    "print(\"nc  \",results.rsquared)\n",
    "print(\"nc  \",results.rsquared_adj)\n",
    "print(\"nc  \",results.mse_resid)\n",
    "print(\"nc  \",results.eigenvals)\n",
    "x=sm.add_constant(x)\n",
    "model=sm.OLS(y,x)\n",
    "results=model.fit()\n",
    "print(\"c  \",results.params[0],results.params[1])\n",
    "print(\"c  \",results.aic)\n",
    "print(\"c  \",results.bic)\n",
    "print(\"c  \",results.rsquared)\n",
    "print(\"c  \",results.rsquared_adj)\n",
    "print(\"c  \",results.mse_resid)\n",
    "print(\"c  \",results.eigenvals)\n",
    "x[\"t\"]=range(len(y))\n",
    "model=sm.OLS(y,x)\n",
    "results=model.fit()\n",
    "print(\"ct  \",results.params[0],results.params[1],results.params[2])\n",
    "print(\"ct  \",results.aic)\n",
    "print(\"ct  \",results.bic)\n",
    "print(\"ct  \",results.rsquared)\n",
    "print(\"ct  \",results.rsquared_adj)\n",
    "print(\"ct  \",results.mse_resid)\n",
    "print(\"ct  \",results.eigenvals)\n"
   ]
  },
  {
   "cell_type": "code",
   "execution_count": 83,
   "metadata": {},
   "outputs": [
    {
     "name": "stdout",
     "output_type": "stream",
     "text": [
      "nc   NIKKEI225    0.000002\n",
      "dtype: float64\n",
      "c   0.011510019022 -0.00120268885458\n",
      "ct   0.00999140737364 -0.00107390760031 9.73532530661e-08\n"
     ]
    }
   ],
   "source": [
    "z=lnn225.loc['1993/10/31':]\n",
    "y=z.diff().dropna()\n",
    "x=z.shift(1).dropna()\n",
    "model=sm.OLS(y,x)\n",
    "results=model.fit()\n",
    "print(\"nc  \",results.params)\n",
    "x=sm.add_constant(x)\n",
    "model=sm.OLS(y,x)\n",
    "results=model.fit()\n",
    "print(\"c  \",results.params[0],results.params[1])\n",
    "x[\"t\"]=range(len(y))\n",
    "model=sm.OLS(y,x)\n",
    "results=model.fit()\n",
    "print(\"ct  \",results.params[0],results.params[1],results.params[2])"
   ]
  },
  {
   "cell_type": "code",
   "execution_count": 84,
   "metadata": {},
   "outputs": [
    {
     "name": "stdout",
     "output_type": "stream",
     "text": [
      "nc   NIKKEI225   -0.000118\n",
      "dtype: float64\n",
      "c   0.0559706709658 -0.00566027578103\n",
      "ct   0.207015979612 -0.0200296525262 -1.83524258751e-05\n"
     ]
    }
   ],
   "source": [
    "z=lnn225.loc['1990/1/1':'1992/8/31']\n",
    "y=z.diff().dropna()\n",
    "x=z.shift(1).dropna()\n",
    "model=sm.OLS(y,x)\n",
    "results=model.fit()\n",
    "print(\"nc  \",results.params)\n",
    "x=sm.add_constant(x)\n",
    "model=sm.OLS(y,x)\n",
    "results=model.fit()\n",
    "print(\"c  \",results.params[0],results.params[1])\n",
    "x[\"t\"]=range(len(y))\n",
    "model=sm.OLS(y,x)\n",
    "results=model.fit()\n",
    "print(\"ct  \",results.params[0],results.params[1],results.params[2])"
   ]
  },
  {
   "cell_type": "markdown",
   "metadata": {},
   "source": [
    "## 7.5 確定的トレンドと確率的トレンド"
   ]
  },
  {
   "cell_type": "code",
   "execution_count": 85,
   "metadata": {},
   "outputs": [
    {
     "data": {
      "text/plain": [
       "<matplotlib.text.Text at 0x1e384c82080>"
      ]
     },
     "execution_count": 85,
     "metadata": {},
     "output_type": "execute_result"
    },
    {
     "data": {
      "image/png": "[encoded data removed]",
      "text/plain": [
       "<matplotlib.figure.Figure at 0x1e38485cba8>"
      ]
     },
     "metadata": {},
     "output_type": "display_data"
    }
   ],
   "source": [
    "%matplotlib inline\n",
    "import matplotlib.pyplot as plt\n",
    "import statsmodels.api as sm\n",
    "import pandas_datareader.data as pdr\n",
    "import numpy as np\n",
    "end='2016/9/30'\n",
    "lnw5000 = np.log(web.DataReader(\"WILL5000INDFC\", 'fred',\"1949/5/16\",end)).dropna()\n",
    "lnw5000.columns=['Close']\n",
    "plt.plot(lnw5000.Close,color='hotpink')\n",
    "lnw5000[\"t\"]=range(len(lnw5000))\n",
    "model=sm.OLS(lnw5000.Close,lnw5000.t)\n",
    "results=model.fit()\n",
    "results.fittedvalues.plot(label='prediction',style='--')\n",
    "plt.ylabel('log(n225 index)')"
   ]
  },
  {
   "cell_type": "code",
   "execution_count": 86,
   "metadata": {},
   "outputs": [
    {
     "data": {
      "text/plain": [
       "<matplotlib.text.Text at 0x1e384c74160>"
      ]
     },
     "execution_count": 86,
     "metadata": {},
     "output_type": "execute_result"
    },
    {
     "data": {
      "image/png": "[encoded data removed]",
      "text/plain": [
       "<matplotlib.figure.Figure at 0x1e384c50208>"
      ]
     },
     "metadata": {},
     "output_type": "display_data"
    }
   ],
   "source": [
    "results.resid.hist(bins=50,color='lightgreen')\n",
    "plt.ylabel('frequency')\n",
    "plt.xlabel('residual')"
   ]
  },
  {
   "cell_type": "code",
   "execution_count": 87,
   "metadata": {},
   "outputs": [
    {
     "name": "stdout",
     "output_type": "stream",
     "text": [
      "                            OLS Regression Results                            \n",
      "==============================================================================\n",
      "Dep. Variable:                  Close   R-squared:                       0.967\n",
      "Model:                            OLS   Adj. R-squared:                  0.967\n",
      "Method:                 Least Squares   F-statistic:                 2.770e+05\n",
      "Date:                Sat, 30 Dec 2017   Prob (F-statistic):               0.00\n",
      "Time:                        02:14:15   Log-Likelihood:                -7929.6\n",
      "No. Observations:                9397   AIC:                         1.586e+04\n",
      "Df Residuals:                    9396   BIC:                         1.587e+04\n",
      "Df Model:                           1                                         \n",
      "Covariance Type:            nonrobust                                         \n",
      "==============================================================================\n",
      "                 coef    std err          t      P>|t|      [0.025      0.975]\n",
      "------------------------------------------------------------------------------\n",
      "t              0.0006   1.07e-06    526.352      0.000       0.001       0.001\n",
      "==============================================================================\n",
      "Omnibus:                     2185.621   Durbin-Watson:                   0.000\n",
      "Prob(Omnibus):                  0.000   Jarque-Bera (JB):             1204.052\n",
      "Skew:                          -0.744   Prob(JB):                    3.50e-262\n",
      "Kurtosis:                       2.071   Cond. No.                         1.00\n",
      "==============================================================================\n",
      "\n",
      "Warnings:\n",
      "[1] Standard Errors assume that the covariance matrix of the errors is correctly specified.\n"
     ]
    }
   ],
   "source": [
    "print(results.summary())"
   ]
  }
 ],
 "metadata": {
  "anaconda-cloud": {},
  "kernelspec": {
   "display_name": "Python 3",
   "language": "python",
   "name": "python3"
  },
  "language_info": {
   "codemirror_mode": {
    "name": "ipython",
    "version": 3
   },
   "file_extension": ".py",
   "mimetype": "text/x-python",
   "name": "python",
   "nbconvert_exporter": "python",
   "pygments_lexer": "ipython3",
   "version": "3.5.3"
  }
 },
 "nbformat": 4,
 "nbformat_minor": 1
}
