{
 "cells": [
  {
   "cell_type": "code",
   "execution_count": 11,
   "metadata": {
    "collapsed": true
   },
   "outputs": [],
   "source": [
    "#付録12.A: パンローリングのティックデータの呼び込み\n",
    "from datetime import datetime, date,timedelta\n",
    "from datetime import time\n",
    "def yymmdd_split(yymmdd):#日時インデックスから年、月、日に分類する関数\n",
    "    yy=int(yymmdd[:2])+2000\n",
    "    mm=int(yymmdd[2:4])\n",
    "    dd=int(yymmdd[4:6])\n",
    "    return yy,mm,dd\n",
    "\n",
    "import os\n",
    "def dir_file_get(path,date1,date0):#指定されたフォルダーにあるファイル名を取得\n",
    "    list=os.listdir(path)\n",
    "    lists=[]\n",
    "    for i in range(len(list)):\n",
    "        fname=list[i]\n",
    "        date=fname[:6]\n",
    "        if int(date)>=date0 and int(date)<=date1:\n",
    "            lists.append(fname)\n",
    "    return lists\n",
    "\n",
    "import pandas as pd\n",
    "import csv\n",
    "import pytz #タイムゾーンの処理\n",
    "def read_pan_tick(path,yy,mm,dd):#テキストファイルの読み込み\n",
    "    with open(path,'r',encoding='UTF-8') as f: #this is for version 3.5\n",
    "    #with open(path,'r') as f:# this is for version 2.7\n",
    "        line=f.readline()\n",
    "        da=[]\n",
    "        price=[]\n",
    "        i=0\n",
    "        while line:\n",
    "            elements=line.rstrip()\n",
    "            e=elements.split()\n",
    "            hhmmss=e[0]\n",
    "            hms=hhmmss.split(':')#hms[0]:hour;hms[1]:minute;hms[2]:second \n",
    "            da00=datetime(yy,mm,dd)\n",
    "            if da00.weekday()==0: #月曜=0          \n",
    "                da00=datetime(yy,mm,dd)+timedelta(days=-3)\n",
    "            else:\n",
    "                da00=datetime(yy,mm,dd)+timedelta(days=-1)\n",
    "            if int(hms[0])>=16 and int(hms[0])<=23: #16:30 - 23:59:99\n",
    "                pass\n",
    "            if int(hms[0])>=0 and int(hms[0])<=3: #00:00 - 3:00\n",
    "                da00=da00+timedelta(days=1)\n",
    "            if int(hms[0])>=9 and int(hms[0])<=15: #09:00 - 15:00\n",
    "                da00=datetime(yy,mm,dd)\n",
    "            dd0=da00.day\n",
    "            mm0=da00.month\n",
    "            da0=datetime(yy,mm0,dd0,int(hms[0]),int(hms[1]))+timedelta(hours=-14)\n",
    "            dd0=da0.day\n",
    "            mm0=da0.month\n",
    "            h=da0.hour\n",
    "            m=da0.minute\n",
    "            da0=int(yy*10000+mm0*100+dd0)\n",
    "            tt0=int(h)*100+int(m)\n",
    "            da.append(da0)\n",
    "            price.append([])\n",
    "            #price[i].append(int(da0))\n",
    "            price[i].append(int(tt0))\n",
    "            price[i].append(int(e[1]))\n",
    "            price[i].append(int(e[1]))\n",
    "            price[i].append(int(e[1]))\n",
    "            price[i].append(int(e[2]))\n",
    "            price[i].append(int(e[2]))\n",
    "            price[i].append(int(e[2]))\n",
    "            i+=1\n",
    "            line=f.readline()#テキストファイルの行の読み込み\n",
    "    ts=pd.DataFrame(price,index=da,columns=[\"time\",\"price\",\"bid\",\"offer\",\"volume\",\"vbid\",\"voffer\"])#daをインデックスに設定。\n",
    "    return ts\n",
    "\n",
    "def file_concat_pan_tick(path,date1,date0):#date1、date2で指定された日時の間のデータをdata2からdeta1まで垂直に結合する。\n",
    "    dates=dir_file_get(path,date1,date0)\n",
    "    for i in range(len(dates)):\n",
    "        date=dates[i]\n",
    "        fname=path+date\n",
    "        date0=date[:6]\n",
    "        yy,mm,dd=yymmdd_split(date0)#ファイルの年、月、日を取得\n",
    "        if i==0:\n",
    "            ts=read_pan_tick(fname,yy,mm,dd)\n",
    "        else:\n",
    "            ts0=read_pan_tick(fname,yy,mm,dd)\n",
    "            ts=pd.concat([ts,ts0])\n",
    "    return ts            "
   ]
  },
  {
   "cell_type": "code",
   "execution_count": 12,
   "metadata": {
    "collapsed": true
   },
   "outputs": [],
   "source": [
    "def readcsv(file_name):\n",
    "    trades=[]\n",
    "    with open(file_name,'r') as f:\n",
    "        series=csv.reader(f)\n",
    "        n=0\n",
    "        for line in series:\n",
    "            trades.append([])\n",
    "            for elements in line:\n",
    "                trades[n].append(elements)\n",
    "            n=n+1\n",
    "    f.close()\n",
    "    return trades"
   ]
  },
  {
   "cell_type": "code",
   "execution_count": 13,
   "metadata": {},
   "outputs": [
    {
     "name": "stdout",
     "output_type": "stream",
     "text": [
      "0:01:08.161081\n"
     ]
    }
   ],
   "source": [
    "%matplotlib inline\n",
    "import matplotlib.pyplot as plt\n",
    "if __name__ == \"__main__\":\n",
    "    t1=datetime.now()\n",
    "    path = \"c:\\\\users\\\\moriya\\\\documents\\\\database\\\\pan\\\\n225\\\\TICK\\\\1001\\\\1509\\\\\"\n",
    "    path2 = \"c:\\\\users\\\\moriya\\\\documents\\\\database\\\\n225\\\\tick\\\\\"\n",
    "    fname= \"n225m201508Sep.csv\"\n",
    "    entry=150801\n",
    "    exit=150831\n",
    "    pan=file_concat_pan_tick(path,exit,entry)\n",
    "    fname=path2+fname\n",
    "    pan.to_csv(fname,header=False)#列名無し\n",
    "    path3 = \"c:\\\\users\\\\moriya\\\\documents\\\\database\\\\n225\\\\tick\\\\\"\n",
    "    fname= \"n225m201508Sep.csv\"\n",
    "    file_name=path3+fname\n",
    "    trades=readcsv(file_name)\n",
    "t2=datetime.now()\n",
    "print(t2-t1)"
   ]
  },
  {
   "cell_type": "code",
   "execution_count": 14,
   "metadata": {},
   "outputs": [
    {
     "name": "stdout",
     "output_type": "stream",
     "text": [
      "[['20150731', '230', '20595', '20595', '20595', '105', '105', '105'], ['20150731', '230', '20595', '20595', '20595', '120', '120', '120'], ['20150731', '230', '20595', '20595', '20595', '95', '95', '95'], ['20150731', '230', '20595', '20595', '20595', '112', '112', '112'], ['20150731', '230', '20595', '20595', '20595', '80', '80', '80'], ['20150731', '230', '20595', '20595', '20595', '116', '116', '116'], ['20150731', '230', '20595', '20595', '20595', '131', '131', '131'], ['20150731', '230', '20595', '20595', '20595', '125', '125', '125'], ['20150731', '230', '20595', '20595', '20595', '117', '117', '117'], ['20150731', '230', '20595', '20595', '20595', '78', '78', '78']]\n"
     ]
    }
   ],
   "source": [
    "print(trades[:10])"
   ]
  },
  {
   "cell_type": "code",
   "execution_count": null,
   "metadata": {
    "collapsed": true
   },
   "outputs": [],
   "source": []
  },
  {
   "cell_type": "code",
   "execution_count": null,
   "metadata": {
    "collapsed": true
   },
   "outputs": [],
   "source": []
  }
 ],
 "metadata": {
  "anaconda-cloud": {},
  "kernelspec": {
   "display_name": "Python [conda root]",
   "language": "python",
   "name": "conda-root-py"
  },
  "language_info": {
   "codemirror_mode": {
    "name": "ipython",
    "version": 3
   },
   "file_extension": ".py",
   "mimetype": "text/x-python",
   "name": "python",
   "nbconvert_exporter": "python",
   "pygments_lexer": "ipython3",
   "version": "3.5.3"
  }
 },
 "nbformat": 4,
 "nbformat_minor": 1
}
